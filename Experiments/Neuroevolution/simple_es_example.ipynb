{
 "cells": [
  {
   "cell_type": "markdown",
   "metadata": {},
   "source": [
    "Simple example of using evolution strategies inside `es.py` for toy deterministic fitness function."
   ]
  },
  {
   "cell_type": "code",
   "execution_count": 7,
   "metadata": {},
   "outputs": [
    {
     "name": "stdout",
     "output_type": "stream",
     "text": [
      "Collecting cma\n",
      "  Downloading cma-3.0.3-py2.py3-none-any.whl (230 kB)\n",
      "\u001b[K     |████████████████████████████████| 230 kB 3.1 MB/s eta 0:00:01\n",
      "\u001b[?25hRequirement already satisfied: numpy in /opt/anaconda3/lib/python3.7/site-packages (from cma) (1.18.1)\n",
      "Installing collected packages: cma\n",
      "Successfully installed cma-3.0.3\n"
     ]
    }
   ],
   "source": [
    "!pip install cma"
   ]
  },
  {
   "cell_type": "code",
   "execution_count": 8,
   "metadata": {},
   "outputs": [],
   "source": [
    "import numpy as np\n",
    "import matplotlib.pyplot as plt\n",
    "import cma\n",
    "from es import SimpleGA, CMAES, PEPG, OpenES"
   ]
  },
  {
   "cell_type": "code",
   "execution_count": 9,
   "metadata": {},
   "outputs": [],
   "source": [
    "# from https://github.com/CMA-ES/pycma/blob/master/cma/fitness_functions.py\n",
    "def rastrigin(x):\n",
    "  \"\"\"Rastrigin test objective function, shifted by 10. units away from origin\"\"\"\n",
    "  x = np.copy(x)\n",
    "  x -= 10.0\n",
    "  if not np.isscalar(x[0]):\n",
    "    N = len(x[0])\n",
    "    return -np.array([10 * N + sum(xi**2 - 10 * np.cos(2 * np.pi * xi)) for xi in x])\n",
    "  N = len(x)\n",
    "  return -(10 * N + sum(x**2 - 10 * np.cos(2 * np.pi * x)))\n",
    "\n",
    "fit_func = rastrigin"
   ]
  },
  {
   "cell_type": "code",
   "execution_count": 10,
   "metadata": {},
   "outputs": [],
   "source": [
    "NPARAMS = 100        # make this a 100-dimensinal problem.\n",
    "NPOPULATION = 101    # use population size of 101.\n",
    "MAX_ITERATION = 4000 # run each solver for 5000 generations."
   ]
  },
  {
   "cell_type": "code",
   "execution_count": 11,
   "metadata": {},
   "outputs": [],
   "source": [
    "# defines a function to use solver to solve fit_func\n",
    "def test_solver(solver):\n",
    "  history = []\n",
    "  for j in range(MAX_ITERATION):\n",
    "    solutions = solver.ask()\n",
    "    fitness_list = np.zeros(solver.popsize)\n",
    "    for i in range(solver.popsize):\n",
    "      fitness_list[i] = fit_func(solutions[i])\n",
    "    solver.tell(fitness_list)\n",
    "    result = solver.result() # first element is the best solution, second element is the best fitness\n",
    "    history.append(result[1])\n",
    "    if (j+1) % 100 == 0:\n",
    "      print(\"fitness at iteration\", (j+1), result[1])\n",
    "  print(\"local optimum discovered by solver:\\n\", result[0])\n",
    "  print(\"fitness score at this local optimum:\", result[1])\n",
    "  return history"
   ]
  },
  {
   "cell_type": "code",
   "execution_count": 12,
   "metadata": {},
   "outputs": [
    {
     "name": "stdout",
     "output_type": "stream",
     "text": [
      "This is F(0):\n",
      "-10000.0\n"
     ]
    }
   ],
   "source": [
    "x = np.zeros(NPARAMS) # 100-dimensional problem\n",
    "print(\"This is F(0):\")\n",
    "print(rastrigin(x))"
   ]
  },
  {
   "cell_type": "code",
   "execution_count": 13,
   "metadata": {},
   "outputs": [
    {
     "name": "stdout",
     "output_type": "stream",
     "text": [
      "-0.0\n",
      "global optimum point:\n",
      " [10. 10. 10. 10. 10. 10. 10. 10. 10. 10. 10. 10. 10. 10. 10. 10. 10. 10.\n",
      " 10. 10. 10. 10. 10. 10. 10. 10. 10. 10. 10. 10. 10. 10. 10. 10. 10. 10.\n",
      " 10. 10. 10. 10. 10. 10. 10. 10. 10. 10. 10. 10. 10. 10. 10. 10. 10. 10.\n",
      " 10. 10. 10. 10. 10. 10. 10. 10. 10. 10. 10. 10. 10. 10. 10. 10. 10. 10.\n",
      " 10. 10. 10. 10. 10. 10. 10. 10. 10. 10. 10. 10. 10. 10. 10. 10. 10. 10.\n",
      " 10. 10. 10. 10. 10. 10. 10. 10. 10. 10.]\n"
     ]
    }
   ],
   "source": [
    "x = np.ones(NPARAMS)*10. # 100-dimensional problem\n",
    "print(rastrigin(x))\n",
    "print(\"global optimum point:\\n\", x)"
   ]
  },
  {
   "cell_type": "code",
   "execution_count": 14,
   "metadata": {},
   "outputs": [],
   "source": [
    "# defines genetic algorithm solver\n",
    "ga = SimpleGA(NPARAMS,                # number of model parameters\n",
    "               sigma_init=0.5,        # initial standard deviation\n",
    "               popsize=NPOPULATION,   # population size\n",
    "               elite_ratio=0.1,       # percentage of the elites\n",
    "               forget_best=False,     # forget the historical best elites\n",
    "               weight_decay=0.00,     # weight decay coefficient\n",
    "              )"
   ]
  },
  {
   "cell_type": "code",
   "execution_count": 27,
   "metadata": {},
   "outputs": [
    {
     "data": {
      "text/plain": [
       "array([[ 8.98183616,  9.03616064, 11.99149107, ..., 10.00384339,\n",
       "         7.99722775,  8.98857892],\n",
       "       [ 8.97603217,  9.01513393, 12.02419783, ..., 10.00775083,\n",
       "         8.02789884,  8.9814354 ],\n",
       "       [ 9.01871882,  9.02593958, 11.99276873, ...,  9.96585011,\n",
       "         8.00020735,  8.98591924],\n",
       "       ...,\n",
       "       [ 8.9966236 ,  9.02178945, 11.9896013 , ...,  9.99754868,\n",
       "         7.98987662,  8.98486316],\n",
       "       [ 9.01685889,  9.03978507, 11.99782345, ..., 10.01403036,\n",
       "         8.02582365,  9.02126089],\n",
       "       [ 8.99863401,  9.03326574, 11.99763317, ..., 10.0040107 ,\n",
       "         7.99781999,  8.99426786]])"
      ]
     },
     "execution_count": 27,
     "metadata": {},
     "output_type": "execute_result"
    }
   ],
   "source": [
    "ga.ask()"
   ]
  },
  {
   "cell_type": "code",
   "execution_count": 15,
   "metadata": {},
   "outputs": [
    {
     "name": "stdout",
     "output_type": "stream",
     "text": [
      "fitness at iteration 100 -1201.0718774897778\n",
      "fitness at iteration 200 -1088.8817519226059\n",
      "fitness at iteration 300 -1011.4105789192732\n",
      "fitness at iteration 400 -993.9885166141202\n",
      "fitness at iteration 500 -945.7529790897486\n",
      "fitness at iteration 600 -911.9230725650001\n",
      "fitness at iteration 700 -860.3479535343504\n",
      "fitness at iteration 800 -845.4229318994376\n",
      "fitness at iteration 900 -813.1960259458623\n",
      "fitness at iteration 1000 -790.132653037012\n",
      "fitness at iteration 1100 -740.3644119634453\n",
      "fitness at iteration 1200 -706.3196335894718\n",
      "fitness at iteration 1300 -650.1584279259207\n",
      "fitness at iteration 1400 -600.2312588345467\n",
      "fitness at iteration 1500 -589.6490501638834\n",
      "fitness at iteration 1600 -495.197051461632\n",
      "fitness at iteration 1700 -464.2878632068756\n",
      "fitness at iteration 1800 -412.243935231205\n",
      "fitness at iteration 1900 -388.9985343923622\n",
      "fitness at iteration 2000 -350.89265216534045\n",
      "fitness at iteration 2100 -326.23791720475515\n",
      "fitness at iteration 2200 -294.91358466124836\n",
      "fitness at iteration 2300 -280.38168680756655\n",
      "fitness at iteration 2400 -258.2130635836528\n",
      "fitness at iteration 2500 -240.38470472672702\n",
      "fitness at iteration 2600 -232.2408158560521\n",
      "fitness at iteration 2700 -219.1876897347429\n",
      "fitness at iteration 2800 -216.19312580762005\n",
      "fitness at iteration 2900 -210.24689160880655\n",
      "fitness at iteration 3000 -204.48725653455892\n",
      "fitness at iteration 3100 -201.50802633820922\n",
      "fitness at iteration 3200 -197.7088591675123\n",
      "fitness at iteration 3300 -194.3461651922645\n",
      "fitness at iteration 3400 -191.232883429151\n",
      "fitness at iteration 3500 -190.3361953338134\n",
      "fitness at iteration 3600 -187.87761833350078\n",
      "fitness at iteration 3700 -186.8805717824415\n",
      "fitness at iteration 3800 -186.17927912137077\n",
      "fitness at iteration 3900 -185.24530705479515\n",
      "fitness at iteration 4000 -184.46618923078506\n",
      "local optimum discovered by solver:\n",
      " [ 9.01013635  9.03153578 11.99180838  9.00018114 11.00428382 10.00230848\n",
      " 10.01125582 10.99802391  9.99352042  9.00850094  9.99121403 10.00530097\n",
      " 10.01890754  9.9867182   9.04778077  8.99301916  9.97622781  9.03188754\n",
      "  9.97053376  9.01072018  9.99975455  8.01486049 10.0066999  10.00590738\n",
      "  8.99610765 10.00789477  7.02927109  9.00441361 12.00155382  9.99254481\n",
      " 11.99427088 10.01564986 10.02193139  7.01130118  9.01835466  8.0053764\n",
      " 10.9983346  10.00212767 11.99702352  8.03439864  9.02617802  8.98053282\n",
      "  9.97955039 10.00441593 11.97989515  9.99814511  8.9883996  11.98207995\n",
      "  8.02105956 10.00093385  7.00443378 10.02573052 10.01686053  8.03752056\n",
      "  8.02036085  8.00384933  7.01566367 10.0138471   9.01808707  9.00968846\n",
      " 10.01957004 11.00324591  9.98906724  8.99717879 11.0125192   9.98226209\n",
      "  8.00892708  9.99019091 10.98948059  9.98081851 10.97936406  8.00649797\n",
      " 10.98098739 11.99517608 10.00802957 10.99279579  8.01944225  8.99078899\n",
      "  9.00301832 10.99186289 10.00800222 10.00184789  8.01366329 10.9978053\n",
      "  8.01309488 12.9733656  10.00592071  6.99777329 11.00782361  9.9876783\n",
      " 10.98040795  9.99164991  7.01277015 10.0106807   8.99172452  8.01520038\n",
      " 11.01031788  9.99852698  8.02344973  9.01624058]\n",
      "fitness score at this local optimum: -184.46618923078506\n"
     ]
    }
   ],
   "source": [
    "ga_history = test_solver(ga)"
   ]
  },
  {
   "cell_type": "code",
   "execution_count": 16,
   "metadata": {},
   "outputs": [
    {
     "name": "stdout",
     "output_type": "stream",
     "text": [
      "(50_w,101)-aCMA-ES (mu_w=27.2,w_1=8%) in dimension 100 (seed=1114419, Tue Jul 28 23:56:52 2020)\n"
     ]
    }
   ],
   "source": [
    "# defines CMA-ES algorithm solver\n",
    "cmaes = CMAES(NPARAMS,\n",
    "              popsize=NPOPULATION,\n",
    "              weight_decay=0.0,\n",
    "              sigma_init = 0.5\n",
    "          )"
   ]
  },
  {
   "cell_type": "code",
   "execution_count": 17,
   "metadata": {},
   "outputs": [
    {
     "name": "stdout",
     "output_type": "stream",
     "text": [
      "fitness at iteration 100 -965.5897835794776\n",
      "fitness at iteration 200 -834.984892353484\n",
      "fitness at iteration 300 -771.0211911844362\n",
      "fitness at iteration 400 -455.4473870839969\n",
      "fitness at iteration 500 -45.21829852505073\n",
      "fitness at iteration 600 -44.77337977090497\n",
      "fitness at iteration 700 -44.77314761733669\n",
      "fitness at iteration 800 -44.77314749362438\n",
      "fitness at iteration 900 -44.77314749356003\n",
      "fitness at iteration 1000 -44.77314749356003\n",
      "fitness at iteration 1100 -44.77314749356003\n",
      "fitness at iteration 1200 -44.77314749356003\n",
      "fitness at iteration 1300 -44.77314749356003\n",
      "fitness at iteration 1400 -44.77314749356003\n",
      "fitness at iteration 1500 -44.77314749356003\n",
      "fitness at iteration 1600 -44.77314749356003\n",
      "fitness at iteration 1700 -44.77314749356003\n",
      "fitness at iteration 1800 -44.77314749356003\n",
      "fitness at iteration 1900 -44.77314749356003\n",
      "fitness at iteration 2000 -44.77314749356003\n",
      "fitness at iteration 2100 -44.77314749356003\n",
      "fitness at iteration 2200 -44.77314749356003\n",
      "fitness at iteration 2300 -44.77314749356003\n",
      "fitness at iteration 2400 -44.77314749356003\n",
      "fitness at iteration 2500 -44.77314749356003\n",
      "fitness at iteration 2600 -44.77314749356003\n",
      "fitness at iteration 2700 -44.77314749356003\n",
      "fitness at iteration 2800 -44.77314749356003\n",
      "fitness at iteration 2900 -44.77314749356003\n",
      "fitness at iteration 3000 -44.77314749356003\n",
      "fitness at iteration 3100 -44.77314749356003\n",
      "fitness at iteration 3200 -44.77314749356003\n",
      "fitness at iteration 3300 -44.77314749356003\n",
      "fitness at iteration 3400 -44.77314749356003\n",
      "fitness at iteration 3500 -44.77314749356003\n",
      "fitness at iteration 3600 -44.77314749356003\n",
      "fitness at iteration 3700 -44.77314749356003\n",
      "fitness at iteration 3800 -44.77314749356003\n",
      "fitness at iteration 3900 -44.77314749356003\n",
      "fitness at iteration 4000 -44.77314749356003\n",
      "local optimum discovered by solver:\n",
      " [10.         10.         10.99495864 10.         10.99495864 10.\n",
      " 10.00000001  9.99999999 10.         10.         10.          9.00504136\n",
      "  9.00504136 10.99495864 10.          9.00504136 10.         10.\n",
      " 10.          9.99999999  9.00504136 10.         10.99495863 10.\n",
      " 10.99495864  9.00504136  9.00504136  8.01008777  9.00504136  8.01008777\n",
      " 10.00000001 10.99495865 10.         10.         10.         10.\n",
      " 10.         10.         10.         10.         10.         10.\n",
      " 10.00000001  9.00504136 10.99495864 10.00000001 10.          9.00504137\n",
      "  9.00504137 10.         10.00000001  9.99999999 10.          9.00504137\n",
      " 10.          9.00504136 10.99495864 10.          9.00504137  9.99999999\n",
      " 10.99495863 10.99495863 10.          9.99999999 10.00000001  9.00504137\n",
      " 10.         10.99495865  9.00504137 10.         10.         10.\n",
      " 10.00000001  9.00504136 10.         10.          9.00504136 10.99495864\n",
      "  9.99999999 10.99495864 10.         10.99495864 10.         10.00000001\n",
      " 10.          9.00504137  9.00504137  9.00504136 10.00000001 10.99495864\n",
      "  9.00504137 10.00000001 10.         10.         10.00000001  9.99999999\n",
      " 10.         10.99495863 10.00000001 10.        ]\n",
      "fitness score at this local optimum: -44.77314749356003\n"
     ]
    }
   ],
   "source": [
    "cma_history = test_solver(cmaes)"
   ]
  },
  {
   "cell_type": "code",
   "execution_count": 18,
   "metadata": {},
   "outputs": [],
   "source": [
    "# defines PEPG (NES) solver\n",
    "pepg = PEPG(NPARAMS,                         # number of model parameters\n",
    "            sigma_init=0.5,                  # initial standard deviation\n",
    "            learning_rate=0.1,               # learning rate for standard deviation\n",
    "            learning_rate_decay=1.0,       # don't anneal the learning rate\n",
    "            popsize=NPOPULATION,             # population size\n",
    "            average_baseline=False,          # set baseline to average of batch\n",
    "            weight_decay=0.00,            # weight decay coefficient\n",
    "            rank_fitness=False,           # use rank rather than fitness numbers\n",
    "            forget_best=False)            # don't keep the historical best solution)"
   ]
  },
  {
   "cell_type": "code",
   "execution_count": 19,
   "metadata": {},
   "outputs": [
    {
     "name": "stdout",
     "output_type": "stream",
     "text": [
      "fitness at iteration 100 -3482.2923814864066\n",
      "fitness at iteration 200 -1255.3117431722062\n",
      "fitness at iteration 300 -933.1809954887351\n",
      "fitness at iteration 400 -853.7852009514326\n",
      "fitness at iteration 500 -617.4651585388015\n",
      "fitness at iteration 600 -481.0182192281427\n",
      "fitness at iteration 700 -435.04474114784955\n",
      "fitness at iteration 800 -324.3240221489534\n",
      "fitness at iteration 900 -241.10429385138696\n",
      "fitness at iteration 1000 -200.5763762760712\n",
      "fitness at iteration 1100 -176.47122980621475\n",
      "fitness at iteration 1200 -167.6703765732609\n",
      "fitness at iteration 1300 -158.827912950851\n",
      "fitness at iteration 1400 -148.93195895249005\n",
      "fitness at iteration 1500 -138.91644365482853\n",
      "fitness at iteration 1600 -132.56058489833504\n",
      "fitness at iteration 1700 -129.99633600028926\n",
      "fitness at iteration 1800 -128.2200824907353\n",
      "fitness at iteration 1900 -126.83692887720679\n",
      "fitness at iteration 2000 -125.80050602158337\n",
      "fitness at iteration 2100 -125.20540111040998\n",
      "fitness at iteration 2200 -124.73274530799779\n",
      "fitness at iteration 2300 -124.32829545019672\n",
      "fitness at iteration 2400 -124.05584897016342\n",
      "fitness at iteration 2500 -123.82132142043667\n",
      "fitness at iteration 2600 -123.62572416454861\n",
      "fitness at iteration 2700 -123.48482972952058\n",
      "fitness at iteration 2800 -123.35494603882705\n",
      "fitness at iteration 2900 -123.15494290128038\n",
      "fitness at iteration 3000 -123.0837955455961\n",
      "fitness at iteration 3100 -122.90415064785714\n",
      "fitness at iteration 3200 -122.86365494031725\n",
      "fitness at iteration 3300 -122.77157520522303\n",
      "fitness at iteration 3400 -122.64084961380502\n",
      "fitness at iteration 3500 -122.54392571244375\n",
      "fitness at iteration 3600 -122.44526658370205\n",
      "fitness at iteration 3700 -122.3576080323503\n",
      "fitness at iteration 3800 -122.2919697871381\n",
      "fitness at iteration 3900 -122.21104451963413\n",
      "fitness at iteration 4000 -122.15568846625877\n",
      "local optimum discovered by solver:\n",
      " [ 8.99992838  8.00781158  9.99562725  9.98449884 10.00678264 11.99243805\n",
      " 12.98879156  9.99620582  8.0057559  12.04028991 10.00007644 11.98703429\n",
      "  9.96826885  8.99862762 10.05659926 11.98910625 10.99888662 11.99737521\n",
      " 10.9854362  11.00438312  8.95163258 11.00673167  8.99474684  9.99333712\n",
      " 10.00699491 11.00164796 10.99428128 10.96143607 10.05069289  9.96203307\n",
      " 10.99639848 10.00393544  8.98184935  9.00425698 10.97907351 11.01024702\n",
      " 11.99797641 10.98548466 10.00539198  9.951375    9.99068658  8.99113579\n",
      " 10.00340631  9.98469732 11.96380322  8.99246447 11.99750977 10.00104841\n",
      " 10.01116768 10.99925445 10.01961493 10.9871199  10.99232407 10.00674412\n",
      "  9.00845704 11.9973924  12.00109066 11.01841933 10.00546608 10.99563772\n",
      "  9.97057741 10.99397056 10.0100579   9.00595545  9.99344472 11.01472286\n",
      " 11.01476513 11.04278675 10.01382448  9.99567733 11.00462217 10.99221729\n",
      " 11.00476861  9.99718949 10.98360382 10.99758587 10.98493954  9.00153953\n",
      " 11.99434828 10.97735337 10.99307666  8.99517376 10.00462743  9.99404154\n",
      " 10.98122738 10.99192743 10.98292818 11.01574829 10.00490512  9.97464351\n",
      "  9.9958533  11.9982518  10.03246072 10.00539766 10.08877906  9.96792222\n",
      " 10.0055943  10.99831854 11.00201864 12.00587722]\n",
      "fitness score at this local optimum: -122.15568846625877\n"
     ]
    }
   ],
   "source": [
    "pepg_history = test_solver(pepg)"
   ]
  },
  {
   "cell_type": "code",
   "execution_count": 20,
   "metadata": {},
   "outputs": [],
   "source": [
    "# defines OpenAI's ES algorithm solver. Note that we needed to anneal the sigma parameter\n",
    "oes = OpenES(NPARAMS,                  # number of model parameters\n",
    "            sigma_init=0.5,            # initial standard deviation\n",
    "            sigma_decay=0.999,         # don't anneal standard deviation\n",
    "            learning_rate=0.1,         # learning rate for standard deviation\n",
    "            learning_rate_decay = 1.0, # annealing the learning rate\n",
    "            popsize=NPOPULATION,       # population size\n",
    "            antithetic=False,          # whether to use antithetic sampling\n",
    "            weight_decay=0.00,         # weight decay coefficient\n",
    "            rank_fitness=False,        # use rank rather than fitness numbers\n",
    "            forget_best=False)"
   ]
  },
  {
   "cell_type": "code",
   "execution_count": 21,
   "metadata": {},
   "outputs": [
    {
     "name": "stdout",
     "output_type": "stream",
     "text": [
      "fitness at iteration 100 -2525.3126231110364\n",
      "fitness at iteration 200 -838.7064318618364\n",
      "fitness at iteration 300 -831.7633397291314\n",
      "fitness at iteration 400 -831.7633397291314\n",
      "fitness at iteration 500 -820.7433276217525\n",
      "fitness at iteration 600 -779.7616868081591\n",
      "fitness at iteration 700 -716.0311087607383\n",
      "fitness at iteration 800 -664.4639053492299\n",
      "fitness at iteration 900 -603.4819812925546\n",
      "fitness at iteration 1000 -500.2147492929509\n",
      "fitness at iteration 1100 -459.1842043965771\n",
      "fitness at iteration 1200 -419.08357485337706\n",
      "fitness at iteration 1300 -387.2094760041982\n",
      "fitness at iteration 1400 -343.1058811445265\n",
      "fitness at iteration 1500 -299.1897366282742\n",
      "fitness at iteration 1600 -299.1897366282742\n",
      "fitness at iteration 1700 -285.00268367329534\n",
      "fitness at iteration 1800 -249.6984234790841\n",
      "fitness at iteration 1900 -229.94731005570816\n",
      "fitness at iteration 2000 -229.94731005570816\n",
      "fitness at iteration 2100 -229.94731005570816\n",
      "fitness at iteration 2200 -221.481175595443\n",
      "fitness at iteration 2300 -201.9705175571305\n",
      "fitness at iteration 2400 -185.83156249427475\n",
      "fitness at iteration 2500 -182.49347944716158\n",
      "fitness at iteration 2600 -178.98930777353303\n",
      "fitness at iteration 2700 -165.85757165264818\n",
      "fitness at iteration 2800 -151.63681927568769\n",
      "fitness at iteration 2900 -147.43033644155503\n",
      "fitness at iteration 3000 -147.43033644155503\n",
      "fitness at iteration 3100 -147.43033644155503\n",
      "fitness at iteration 3200 -147.43033644155503\n",
      "fitness at iteration 3300 -147.43033644155503\n",
      "fitness at iteration 3400 -147.43033644155503\n",
      "fitness at iteration 3500 -147.43033644155503\n",
      "fitness at iteration 3600 -147.43033644155503\n",
      "fitness at iteration 3700 -147.43033644155503\n",
      "fitness at iteration 3800 -147.43033644155503\n",
      "fitness at iteration 3900 -147.43033644155503\n",
      "fitness at iteration 4000 -147.43033644155503\n",
      "local optimum discovered by solver:\n",
      " [10.94151109 10.07435963 10.97963473  9.92031469 10.93818029 10.99663864\n",
      "  9.02943844  9.96916302 10.00532946  9.05924439 11.90015591 10.9599239\n",
      " 10.9822595  11.01844478  9.02193381 11.01738414 10.03195716 10.01377001\n",
      " 11.00303746 11.99048353  8.97657072  8.98649577 10.95995082  9.98058389\n",
      " 11.0489371  11.0145391  11.01034169  9.95443845 10.95868532 10.98747931\n",
      "  9.99814737 10.046273   10.9513025  10.05737202 12.00118873 12.07686129\n",
      " 10.07759849  9.95461508  9.07375725 10.94622741 10.03405402 11.95958865\n",
      "  9.99154305 10.96259963 11.06201376  9.0336247  10.94126975  9.98248445\n",
      " 10.08467585 11.05682169 11.05343677 10.07017268 11.03140665 10.92336172\n",
      "  9.02480965 12.03500037 10.03084052 11.02163227 11.98882638 10.97170736\n",
      " 11.05949139  7.96351393 11.98947407 11.9607228   9.01653157 10.98203507\n",
      " 10.9597614  10.03172994 10.98114112 10.95094246 10.99486169 10.97071726\n",
      "  8.93703518 10.0531798  10.97276913  9.99003234  9.98089136  9.9303038\n",
      " 10.98039096  8.93572745 11.01971791 12.01022491  7.98877081  9.01888611\n",
      " 10.89453731  9.98832573 11.06241321 11.04727607 10.99602881  9.97339525\n",
      " 10.04778154 11.97712172 10.98560116 10.0188826  12.06441233 11.00175857\n",
      " 11.02930461  9.0196683  10.04078622 10.99582929]\n",
      "fitness score at this local optimum: -147.43033644155503\n"
     ]
    }
   ],
   "source": [
    "oes_history = test_solver(oes)"
   ]
  },
  {
   "cell_type": "code",
   "execution_count": 22,
   "metadata": {},
   "outputs": [],
   "source": [
    "# defines OpenAI's ES algorithm solver. Note that we needed to anneal the sigma parameter\n",
    "# this version turns on antithetic sampling. It doesn't really help, and sometimes hurts performance.\n",
    "oes_antithetic = OpenES(NPARAMS,            # number of model parameters\n",
    "                 sigma_init=0.5,            # initial standard deviation\n",
    "                 sigma_decay=0.999,         # don't anneal standard deviation\n",
    "                 learning_rate=0.1,         # learning rate for standard deviation\n",
    "                 learning_rate_decay=1.0,   # annealing the learning rate\n",
    "                 popsize=NPOPULATION+1,     # population size\n",
    "                 antithetic=True,           # whether to use antithetic sampling\n",
    "                 weight_decay=0.00,         # weight decay coefficient\n",
    "                 rank_fitness=False,        # use rank rather than fitness numbers\n",
    "                 forget_best=False)"
   ]
  },
  {
   "cell_type": "code",
   "execution_count": 23,
   "metadata": {},
   "outputs": [
    {
     "name": "stdout",
     "output_type": "stream",
     "text": [
      "fitness at iteration 100 -3254.845065509896\n",
      "fitness at iteration 200 -952.6839372619124\n",
      "fitness at iteration 300 -834.065502104961\n",
      "fitness at iteration 400 -834.065502104961\n",
      "fitness at iteration 500 -834.065502104961\n",
      "fitness at iteration 600 -746.3433470023864\n",
      "fitness at iteration 700 -696.7568108884109\n",
      "fitness at iteration 800 -691.2351389504568\n",
      "fitness at iteration 900 -596.7018546431675\n",
      "fitness at iteration 1000 -535.9360607802125\n",
      "fitness at iteration 1100 -469.6631414618016\n",
      "fitness at iteration 1200 -437.0031568958476\n",
      "fitness at iteration 1300 -381.44652794260605\n",
      "fitness at iteration 1400 -374.7803505501895\n",
      "fitness at iteration 1500 -344.73133292951286\n",
      "fitness at iteration 1600 -335.61542559137536\n",
      "fitness at iteration 1700 -301.579084956374\n",
      "fitness at iteration 1800 -271.9070581132304\n",
      "fitness at iteration 1900 -266.2414721189814\n",
      "fitness at iteration 2000 -266.2414721189814\n",
      "fitness at iteration 2100 -266.2414721189814\n",
      "fitness at iteration 2200 -266.2414721189814\n",
      "fitness at iteration 2300 -266.2414721189814\n",
      "fitness at iteration 2400 -266.2414721189814\n",
      "fitness at iteration 2500 -266.2414721189814\n",
      "fitness at iteration 2600 -266.2414721189814\n",
      "fitness at iteration 2700 -264.8945795621702\n",
      "fitness at iteration 2800 -244.93850424424545\n",
      "fitness at iteration 2900 -244.93850424424545\n",
      "fitness at iteration 3000 -227.60568168598616\n",
      "fitness at iteration 3100 -214.97908730841846\n",
      "fitness at iteration 3200 -214.97908730841846\n",
      "fitness at iteration 3300 -214.97908730841846\n",
      "fitness at iteration 3400 -214.97908730841846\n",
      "fitness at iteration 3500 -214.97908730841846\n",
      "fitness at iteration 3600 -214.97908730841846\n",
      "fitness at iteration 3700 -214.97908730841846\n",
      "fitness at iteration 3800 -214.97908730841846\n",
      "fitness at iteration 3900 -214.97908730841846\n",
      "fitness at iteration 4000 -214.97908730841846\n",
      "local optimum discovered by solver:\n",
      " [10.05284839 10.81276065 11.09403979  9.9038228  10.91906107  9.90554089\n",
      " 10.02230194 10.03416016  9.06308213  9.11261293  9.97296357 11.98137131\n",
      " 10.9932531  10.00629733  9.98776126 11.9661721  11.83849803 11.04785761\n",
      "  9.08300351 10.03580527 11.0214465   8.97094381 11.00175545  9.92279822\n",
      " 11.06350286  9.91028362 11.07009371 10.04842989 10.06888445 10.08285333\n",
      "  9.97283977 12.0603471  10.93368824 10.92179358  8.95037618 11.91842161\n",
      "  9.94957074 10.98150526 11.0177349  10.02557344 12.0632169   9.89970519\n",
      " 11.05714779  9.08167363 10.94409323  9.01304296 11.92655276 11.97819302\n",
      "  9.99914511 11.99380441 12.07951649 10.03677345  9.894538    8.94424106\n",
      "  9.92547714 10.96782121 10.98989887 10.00460714  9.08273814  9.00319225\n",
      "  9.06610775 10.09190245 10.98959607 10.0370839  11.96675501 10.07814053\n",
      " 11.0406762  11.05418044 11.95333091 10.91979686  8.91624171 11.01717493\n",
      " 11.01414274 12.12594321 12.01819959 10.98015288 11.05917426 11.04278318\n",
      "  8.94931606 10.84643155  9.03753335  9.96711635  9.95245043 10.0668847\n",
      " 11.09950014 12.98829774 10.94504342 11.14681046 11.9947505   9.98314851\n",
      " 11.10171752 10.86595193 11.02121615  9.89471009  9.09389695 10.9525783\n",
      " 10.05618944 10.06240067  9.96523331 13.09475732]\n",
      "fitness score at this local optimum: -214.97908730841846\n"
     ]
    }
   ],
   "source": [
    "oes_antithetic_history = test_solver(oes_antithetic)"
   ]
  },
  {
   "cell_type": "code",
   "execution_count": 24,
   "metadata": {},
   "outputs": [
    {
     "data": {
      "image/png": "[encoded data removed]",
      "text/plain": [
       "<Figure size 2400x1200 with 1 Axes>"
      ]
     },
     "metadata": {
      "needs_background": "light"
     },
     "output_type": "display_data"
    }
   ],
   "source": [
    "# Create a new figure of size 8x6 points, using 100 dots per inch\n",
    "best_history = [0] * MAX_ITERATION\n",
    "plt.figure(figsize=(16,8), dpi=150)\n",
    "\n",
    "optimum_line, = plt.plot(best_history, color=\"black\", linewidth=0.5, linestyle=\"-.\", label='Global Optimum')\n",
    "ga_line, = plt.plot(ga_history, color=\"green\", linewidth=1.0, linestyle=\"-\", label='GA')\n",
    "oes_line, = plt.plot(oes_history, color=\"orange\", linewidth=1.0, linestyle=\"-\", label='OpenAI-ES')\n",
    "pepg_line, = plt.plot(pepg_history, color=\"blue\", linewidth=1.0, linestyle=\"-\", label='PEPG / NES')\n",
    "cma_line, = plt.plot(cma_history, color=\"red\", linewidth=1.0, linestyle=\"-\", label='CMA-ES')\n",
    "\n",
    "plt.legend(handles=[optimum_line, ga_line, cma_line, pepg_line, oes_line], loc=4)\n",
    "\n",
    "# Set x limits\n",
    "plt.xlim(0,2500)\n",
    "\n",
    "plt.xlabel('generation')\n",
    "plt.ylabel('fitness')\n",
    "\n",
    "# plt.savefig(\"./rastrigin_10d.svg\")\n",
    "\n",
    "plt.show()"
   ]
  },
  {
   "cell_type": "code",
   "execution_count": null,
   "metadata": {},
   "outputs": [],
   "source": []
  },
  {
   "cell_type": "code",
   "execution_count": 25,
   "metadata": {},
   "outputs": [
    {
     "ename": "NameError",
     "evalue": "name 'EvolutionStrategy' is not defined",
     "output_type": "error",
     "traceback": [
      "\u001b[0;31m---------------------------------------------------------------------------\u001b[0m",
      "\u001b[0;31mNameError\u001b[0m                                 Traceback (most recent call last)",
      "\u001b[0;32m<ipython-input-25-40082f248551>\u001b[0m in \u001b[0;36m<module>\u001b[0;34m\u001b[0m\n\u001b[0;32m----> 1\u001b[0;31m \u001b[0msolver\u001b[0m \u001b[0;34m=\u001b[0m \u001b[0mEvolutionStrategy\u001b[0m\u001b[0;34m(\u001b[0m\u001b[0;34m)\u001b[0m\u001b[0;34m\u001b[0m\u001b[0;34m\u001b[0m\u001b[0m\n\u001b[0m",
      "\u001b[0;31mNameError\u001b[0m: name 'EvolutionStrategy' is not defined"
     ]
    }
   ],
   "source": [
    "solver = EvolutionStrategy()"
   ]
  },
  {
   "cell_type": "code",
   "execution_count": null,
   "metadata": {},
   "outputs": [],
   "source": []
  }
 ],
 "metadata": {
  "kernelspec": {
   "display_name": "Python 3",
   "language": "python",
   "name": "python3"
  },
  "language_info": {
   "codemirror_mode": {
    "name": "ipython",
    "version": 3
   },
   "file_extension": ".py",
   "mimetype": "text/x-python",
   "name": "python",
   "nbconvert_exporter": "python",
   "pygments_lexer": "ipython3",
   "version": "3.7.6"
  }
 },
 "nbformat": 4,
 "nbformat_minor": 2
}
